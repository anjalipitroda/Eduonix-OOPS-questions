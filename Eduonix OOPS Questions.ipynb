{
 "cells": [
  {
   "cell_type": "markdown",
   "id": "c362991f",
   "metadata": {},
   "source": [
    "# Problem: OOPs\n",
    "1.\tGo step by step:\n",
    "A.\tCreate a class named (Car)\n",
    "B.\tCall constructor\n",
    "C.\tCreate 3 attributes under that (name, price, colour)\n",
    "D.\tCreate 3 functions - 1. sound 2. speed 3. display (to display 1 and 2 fuctions)\n",
    "E.\tCreate a child class named (Thar) and inherite Car\n",
    "F.\tCreate two objects under that child class and access the functions for them\n"
   ]
  },
  {
   "cell_type": "code",
   "execution_count": 23,
   "id": "ca9ea8b4",
   "metadata": {},
   "outputs": [],
   "source": [
    "class Car:\n",
    "    \n",
    "    def __init__(self, name):\n",
    "        self.name = name\n",
    "\n",
    "car1 = Car('Honda city')\n",
    "\n",
    "class Car:\n",
    "    def __init__(self, name, price, colour):\n",
    "        self.name = name\n",
    "        self.price = price\n",
    "        self.colour = colour\n",
    "    \n",
    "    def sound(self):\n",
    "        print('Vroom')\n",
    "    \n",
    "    def speed(self):\n",
    "        print('The car is going fast')\n",
    "    \n",
    "    def display(self):\n",
    "        print('Name:', self.name)\n",
    "        print('Price:', self.price)\n",
    "        print('Colour:', self.colour)\n",
    "        "
   ]
  },
  {
   "cell_type": "code",
   "execution_count": 25,
   "id": "7017e7e0",
   "metadata": {},
   "outputs": [
    {
     "name": "stdout",
     "output_type": "stream",
     "text": [
      "Vroom\n",
      "The car is going fast\n",
      "Name: Mahindra Thar\n",
      "Price: 35000\n",
      "Colour: Red\n",
      "Vroom\n",
      "The car is going fast\n",
      "Name: Mahindra Thar Adventure\n",
      "Price: 40000\n",
      "Colour: Black\n"
     ]
    }
   ],
   "source": [
    "class Thar(Car):\n",
    "    pass\n",
    "\n",
    "thar1 = Thar(\"Mahindra Thar\", 35000, \"Red\")\n",
    "thar2 = Thar(\"Mahindra Thar Adventure\", 40000, \"Black\")\n",
    "\n",
    "thar1.sound()\n",
    "thar1.speed()\n",
    "thar1.display()\n",
    "\n",
    "thar2.sound()\n",
    "thar2.speed()\n",
    "thar2.display()"
   ]
  },
  {
   "cell_type": "code",
   "execution_count": null,
   "id": "b0b2fad5",
   "metadata": {},
   "outputs": [],
   "source": []
  },
  {
   "cell_type": "markdown",
   "id": "c9983693",
   "metadata": {},
   "source": [
    "# Problem: Try and Except\n",
    "\n",
    "## Create an Except where we can catch all the “zero division error” (you can customize your print statements ). \n"
   ]
  },
  {
   "cell_type": "code",
   "execution_count": 35,
   "id": "6e132b10",
   "metadata": {},
   "outputs": [
    {
     "name": "stdout",
     "output_type": "stream",
     "text": [
      "Error: Division by zero occurred!\n"
     ]
    }
   ],
   "source": [
    "try:\n",
    "    \n",
    "    result = 10 / 0\n",
    "except ZeroDivisionError:\n",
    "    print(\"Error: Division by zero occurred!\")"
   ]
  },
  {
   "cell_type": "code",
   "execution_count": null,
   "id": "9c550b96",
   "metadata": {},
   "outputs": [],
   "source": []
  }
 ],
 "metadata": {
  "kernelspec": {
   "display_name": "Python 3 (ipykernel)",
   "language": "python",
   "name": "python3"
  },
  "language_info": {
   "codemirror_mode": {
    "name": "ipython",
    "version": 3
   },
   "file_extension": ".py",
   "mimetype": "text/x-python",
   "name": "python",
   "nbconvert_exporter": "python",
   "pygments_lexer": "ipython3",
   "version": "3.10.9"
  }
 },
 "nbformat": 4,
 "nbformat_minor": 5
}
